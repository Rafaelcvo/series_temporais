{
 "cells": [
  {
   "cell_type": "code",
   "execution_count": 1,
   "metadata": {
    "slideshow": {
     "slide_type": "slide"
    }
   },
   "outputs": [
    {
     "name": "stdout",
     "output_type": "stream",
     "text": [
      "Populating the interactive namespace from numpy and matplotlib\n"
     ]
    }
   ],
   "source": [
    "import pandas as pd\n",
    "import numpy as np\n",
    "%matplotlib inline \n",
    "%pylab inline\n",
    "pd.set_option(\"display.max_columns\", 200)\n",
    "pylab.rcParams['figure.figsize'] = 10, 5\n",
    "pd.options.mode.chained_assignment = None"
   ]
  },
  {
   "cell_type": "code",
   "execution_count": 2,
   "metadata": {
    "slideshow": {
     "slide_type": "slide"
    }
   },
   "outputs": [],
   "source": [
    "dados = pd.read_csv(\"2004-2019.tsv\", sep = '\\t')"
   ]
  },
  {
   "cell_type": "code",
   "execution_count": 3,
   "metadata": {
    "slideshow": {
     "slide_type": "slide"
    }
   },
   "outputs": [
    {
     "data": {
      "text/html": [
       "<div>\n",
       "<style scoped>\n",
       "    .dataframe tbody tr th:only-of-type {\n",
       "        vertical-align: middle;\n",
       "    }\n",
       "\n",
       "    .dataframe tbody tr th {\n",
       "        vertical-align: top;\n",
       "    }\n",
       "\n",
       "    .dataframe thead th {\n",
       "        text-align: right;\n",
       "    }\n",
       "</style>\n",
       "<table border=\"1\" class=\"dataframe\">\n",
       "  <thead>\n",
       "    <tr style=\"text-align: right;\">\n",
       "      <th></th>\n",
       "      <th>Unnamed: 0</th>\n",
       "      <th>DATA INICIAL</th>\n",
       "      <th>DATA FINAL</th>\n",
       "      <th>REGIÃO</th>\n",
       "      <th>ESTADO</th>\n",
       "      <th>PRODUTO</th>\n",
       "      <th>NÚMERO DE POSTOS PESQUISADOS</th>\n",
       "      <th>UNIDADE DE MEDIDA</th>\n",
       "      <th>PREÇO MÉDIO REVENDA</th>\n",
       "      <th>DESVIO PADRÃO REVENDA</th>\n",
       "      <th>PREÇO MÍNIMO REVENDA</th>\n",
       "      <th>PREÇO MÁXIMO REVENDA</th>\n",
       "      <th>MARGEM MÉDIA REVENDA</th>\n",
       "      <th>COEF DE VARIAÇÃO REVENDA</th>\n",
       "      <th>PREÇO MÉDIO DISTRIBUIÇÃO</th>\n",
       "      <th>DESVIO PADRÃO DISTRIBUIÇÃO</th>\n",
       "      <th>PREÇO MÍNIMO DISTRIBUIÇÃO</th>\n",
       "      <th>PREÇO MÁXIMO DISTRIBUIÇÃO</th>\n",
       "      <th>COEF DE VARIAÇÃO DISTRIBUIÇÃO</th>\n",
       "      <th>MÊS</th>\n",
       "      <th>ANO</th>\n",
       "    </tr>\n",
       "  </thead>\n",
       "  <tbody>\n",
       "    <tr>\n",
       "      <th>0</th>\n",
       "      <td>0</td>\n",
       "      <td>2004-05-09</td>\n",
       "      <td>2004-05-15</td>\n",
       "      <td>CENTRO OESTE</td>\n",
       "      <td>DISTRITO FEDERAL</td>\n",
       "      <td>ETANOL HIDRATADO</td>\n",
       "      <td>127</td>\n",
       "      <td>R$/l</td>\n",
       "      <td>1.288</td>\n",
       "      <td>0.016</td>\n",
       "      <td>1.19</td>\n",
       "      <td>1.350</td>\n",
       "      <td>0.463</td>\n",
       "      <td>0.012</td>\n",
       "      <td>0.825</td>\n",
       "      <td>0.11</td>\n",
       "      <td>0.4201</td>\n",
       "      <td>0.9666</td>\n",
       "      <td>0.133</td>\n",
       "      <td>5</td>\n",
       "      <td>2004</td>\n",
       "    </tr>\n",
       "    <tr>\n",
       "      <th>1</th>\n",
       "      <td>1</td>\n",
       "      <td>2004-05-09</td>\n",
       "      <td>2004-05-15</td>\n",
       "      <td>CENTRO OESTE</td>\n",
       "      <td>GOIAS</td>\n",
       "      <td>ETANOL HIDRATADO</td>\n",
       "      <td>387</td>\n",
       "      <td>R$/l</td>\n",
       "      <td>1.162</td>\n",
       "      <td>0.114</td>\n",
       "      <td>0.89</td>\n",
       "      <td>1.449</td>\n",
       "      <td>0.399</td>\n",
       "      <td>0.098</td>\n",
       "      <td>0.763</td>\n",
       "      <td>0.088</td>\n",
       "      <td>0.5013</td>\n",
       "      <td>1.05</td>\n",
       "      <td>0.115</td>\n",
       "      <td>5</td>\n",
       "      <td>2004</td>\n",
       "    </tr>\n",
       "    <tr>\n",
       "      <th>2</th>\n",
       "      <td>2</td>\n",
       "      <td>2004-05-09</td>\n",
       "      <td>2004-05-15</td>\n",
       "      <td>CENTRO OESTE</td>\n",
       "      <td>MATO GROSSO</td>\n",
       "      <td>ETANOL HIDRATADO</td>\n",
       "      <td>192</td>\n",
       "      <td>R$/l</td>\n",
       "      <td>1.389</td>\n",
       "      <td>0.097</td>\n",
       "      <td>1.18</td>\n",
       "      <td>1.760</td>\n",
       "      <td>0.419</td>\n",
       "      <td>0.070</td>\n",
       "      <td>0.97</td>\n",
       "      <td>0.095</td>\n",
       "      <td>0.5614</td>\n",
       "      <td>1.161</td>\n",
       "      <td>0.098</td>\n",
       "      <td>5</td>\n",
       "      <td>2004</td>\n",
       "    </tr>\n",
       "    <tr>\n",
       "      <th>3</th>\n",
       "      <td>3</td>\n",
       "      <td>2004-05-09</td>\n",
       "      <td>2004-05-15</td>\n",
       "      <td>CENTRO OESTE</td>\n",
       "      <td>MATO GROSSO DO SUL</td>\n",
       "      <td>ETANOL HIDRATADO</td>\n",
       "      <td>162</td>\n",
       "      <td>R$/l</td>\n",
       "      <td>1.262</td>\n",
       "      <td>0.070</td>\n",
       "      <td>1.09</td>\n",
       "      <td>1.509</td>\n",
       "      <td>0.432</td>\n",
       "      <td>0.055</td>\n",
       "      <td>0.83</td>\n",
       "      <td>0.119</td>\n",
       "      <td>0.5991</td>\n",
       "      <td>1.22242</td>\n",
       "      <td>0.143</td>\n",
       "      <td>5</td>\n",
       "      <td>2004</td>\n",
       "    </tr>\n",
       "    <tr>\n",
       "      <th>4</th>\n",
       "      <td>4</td>\n",
       "      <td>2004-05-09</td>\n",
       "      <td>2004-05-15</td>\n",
       "      <td>NORDESTE</td>\n",
       "      <td>ALAGOAS</td>\n",
       "      <td>ETANOL HIDRATADO</td>\n",
       "      <td>103</td>\n",
       "      <td>R$/l</td>\n",
       "      <td>1.181</td>\n",
       "      <td>0.078</td>\n",
       "      <td>1.05</td>\n",
       "      <td>1.400</td>\n",
       "      <td>0.24</td>\n",
       "      <td>0.066</td>\n",
       "      <td>0.941</td>\n",
       "      <td>0.077</td>\n",
       "      <td>0.7441</td>\n",
       "      <td>1.0317</td>\n",
       "      <td>0.082</td>\n",
       "      <td>5</td>\n",
       "      <td>2004</td>\n",
       "    </tr>\n",
       "  </tbody>\n",
       "</table>\n",
       "</div>"
      ],
      "text/plain": [
       "   Unnamed: 0 DATA INICIAL  DATA FINAL        REGIÃO              ESTADO  \\\n",
       "0           0   2004-05-09  2004-05-15  CENTRO OESTE    DISTRITO FEDERAL   \n",
       "1           1   2004-05-09  2004-05-15  CENTRO OESTE               GOIAS   \n",
       "2           2   2004-05-09  2004-05-15  CENTRO OESTE         MATO GROSSO   \n",
       "3           3   2004-05-09  2004-05-15  CENTRO OESTE  MATO GROSSO DO SUL   \n",
       "4           4   2004-05-09  2004-05-15      NORDESTE             ALAGOAS   \n",
       "\n",
       "            PRODUTO  NÚMERO DE POSTOS PESQUISADOS UNIDADE DE MEDIDA  \\\n",
       "0  ETANOL HIDRATADO                           127              R$/l   \n",
       "1  ETANOL HIDRATADO                           387              R$/l   \n",
       "2  ETANOL HIDRATADO                           192              R$/l   \n",
       "3  ETANOL HIDRATADO                           162              R$/l   \n",
       "4  ETANOL HIDRATADO                           103              R$/l   \n",
       "\n",
       "   PREÇO MÉDIO REVENDA  DESVIO PADRÃO REVENDA  PREÇO MÍNIMO REVENDA  \\\n",
       "0                1.288                  0.016                  1.19   \n",
       "1                1.162                  0.114                  0.89   \n",
       "2                1.389                  0.097                  1.18   \n",
       "3                1.262                  0.070                  1.09   \n",
       "4                1.181                  0.078                  1.05   \n",
       "\n",
       "   PREÇO MÁXIMO REVENDA MARGEM MÉDIA REVENDA  COEF DE VARIAÇÃO REVENDA  \\\n",
       "0                 1.350                0.463                     0.012   \n",
       "1                 1.449                0.399                     0.098   \n",
       "2                 1.760                0.419                     0.070   \n",
       "3                 1.509                0.432                     0.055   \n",
       "4                 1.400                 0.24                     0.066   \n",
       "\n",
       "  PREÇO MÉDIO DISTRIBUIÇÃO DESVIO PADRÃO DISTRIBUIÇÃO  \\\n",
       "0                    0.825                       0.11   \n",
       "1                    0.763                      0.088   \n",
       "2                     0.97                      0.095   \n",
       "3                     0.83                      0.119   \n",
       "4                    0.941                      0.077   \n",
       "\n",
       "  PREÇO MÍNIMO DISTRIBUIÇÃO PREÇO MÁXIMO DISTRIBUIÇÃO  \\\n",
       "0                    0.4201                    0.9666   \n",
       "1                    0.5013                      1.05   \n",
       "2                    0.5614                     1.161   \n",
       "3                    0.5991                   1.22242   \n",
       "4                    0.7441                    1.0317   \n",
       "\n",
       "  COEF DE VARIAÇÃO DISTRIBUIÇÃO  MÊS   ANO  \n",
       "0                         0.133    5  2004  \n",
       "1                         0.115    5  2004  \n",
       "2                         0.098    5  2004  \n",
       "3                         0.143    5  2004  \n",
       "4                         0.082    5  2004  "
      ]
     },
     "execution_count": 3,
     "metadata": {},
     "output_type": "execute_result"
    }
   ],
   "source": [
    "dados.head()"
   ]
  },
  {
   "cell_type": "code",
   "execution_count": 4,
   "metadata": {
    "slideshow": {
     "slide_type": "slide"
    }
   },
   "outputs": [
    {
     "data": {
      "text/plain": [
       "GASOLINA COMUM      21194\n",
       "ÓLEO DIESEL         21194\n",
       "GLP                 21186\n",
       "ETANOL HIDRATADO    21102\n",
       "GNV                 13034\n",
       "ÓLEO DIESEL S10      9113\n",
       "Name: PRODUTO, dtype: int64"
      ]
     },
     "execution_count": 4,
     "metadata": {},
     "output_type": "execute_result"
    }
   ],
   "source": [
    "dados['PRODUTO'].value_counts()"
   ]
  },
  {
   "cell_type": "code",
   "execution_count": 7,
   "metadata": {
    "slideshow": {
     "slide_type": "slide"
    }
   },
   "outputs": [],
   "source": [
    "diesel = dados[dados['PRODUTO'] == 'ÓLEO DIESEL'].copy()"
   ]
  },
  {
   "cell_type": "code",
   "execution_count": 8,
   "metadata": {
    "slideshow": {
     "slide_type": "slide"
    }
   },
   "outputs": [
    {
     "data": {
      "text/html": [
       "<div>\n",
       "<style scoped>\n",
       "    .dataframe tbody tr th:only-of-type {\n",
       "        vertical-align: middle;\n",
       "    }\n",
       "\n",
       "    .dataframe tbody tr th {\n",
       "        vertical-align: top;\n",
       "    }\n",
       "\n",
       "    .dataframe thead th {\n",
       "        text-align: right;\n",
       "    }\n",
       "</style>\n",
       "<table border=\"1\" class=\"dataframe\">\n",
       "  <thead>\n",
       "    <tr style=\"text-align: right;\">\n",
       "      <th></th>\n",
       "      <th>Unnamed: 0</th>\n",
       "      <th>DATA INICIAL</th>\n",
       "      <th>DATA FINAL</th>\n",
       "      <th>REGIÃO</th>\n",
       "      <th>ESTADO</th>\n",
       "      <th>PRODUTO</th>\n",
       "      <th>NÚMERO DE POSTOS PESQUISADOS</th>\n",
       "      <th>UNIDADE DE MEDIDA</th>\n",
       "      <th>PREÇO MÉDIO REVENDA</th>\n",
       "      <th>DESVIO PADRÃO REVENDA</th>\n",
       "      <th>PREÇO MÍNIMO REVENDA</th>\n",
       "      <th>PREÇO MÁXIMO REVENDA</th>\n",
       "      <th>MARGEM MÉDIA REVENDA</th>\n",
       "      <th>COEF DE VARIAÇÃO REVENDA</th>\n",
       "      <th>PREÇO MÉDIO DISTRIBUIÇÃO</th>\n",
       "      <th>DESVIO PADRÃO DISTRIBUIÇÃO</th>\n",
       "      <th>PREÇO MÍNIMO DISTRIBUIÇÃO</th>\n",
       "      <th>PREÇO MÁXIMO DISTRIBUIÇÃO</th>\n",
       "      <th>COEF DE VARIAÇÃO DISTRIBUIÇÃO</th>\n",
       "      <th>MÊS</th>\n",
       "      <th>ANO</th>\n",
       "    </tr>\n",
       "  </thead>\n",
       "  <tbody>\n",
       "    <tr>\n",
       "      <th>43547</th>\n",
       "      <td>43547</td>\n",
       "      <td>2004-05-09</td>\n",
       "      <td>2004-05-15</td>\n",
       "      <td>CENTRO OESTE</td>\n",
       "      <td>DISTRITO FEDERAL</td>\n",
       "      <td>ÓLEO DIESEL</td>\n",
       "      <td>125</td>\n",
       "      <td>R$/l</td>\n",
       "      <td>1.447</td>\n",
       "      <td>0.031</td>\n",
       "      <td>1.350</td>\n",
       "      <td>1.490</td>\n",
       "      <td>0.198</td>\n",
       "      <td>0.021</td>\n",
       "      <td>1.249</td>\n",
       "      <td>0.012</td>\n",
       "      <td>1.2153</td>\n",
       "      <td>1.2817</td>\n",
       "      <td>0.01</td>\n",
       "      <td>5</td>\n",
       "      <td>2004</td>\n",
       "    </tr>\n",
       "    <tr>\n",
       "      <th>43548</th>\n",
       "      <td>43548</td>\n",
       "      <td>2004-05-09</td>\n",
       "      <td>2004-05-15</td>\n",
       "      <td>CENTRO OESTE</td>\n",
       "      <td>GOIAS</td>\n",
       "      <td>ÓLEO DIESEL</td>\n",
       "      <td>373</td>\n",
       "      <td>R$/l</td>\n",
       "      <td>1.437</td>\n",
       "      <td>0.059</td>\n",
       "      <td>1.300</td>\n",
       "      <td>1.660</td>\n",
       "      <td>0.157</td>\n",
       "      <td>0.041</td>\n",
       "      <td>1.28</td>\n",
       "      <td>0.024</td>\n",
       "      <td>1.2119</td>\n",
       "      <td>1.3801</td>\n",
       "      <td>0.019</td>\n",
       "      <td>5</td>\n",
       "      <td>2004</td>\n",
       "    </tr>\n",
       "    <tr>\n",
       "      <th>43549</th>\n",
       "      <td>43549</td>\n",
       "      <td>2004-05-09</td>\n",
       "      <td>2004-05-15</td>\n",
       "      <td>CENTRO OESTE</td>\n",
       "      <td>MATO GROSSO</td>\n",
       "      <td>ÓLEO DIESEL</td>\n",
       "      <td>190</td>\n",
       "      <td>R$/l</td>\n",
       "      <td>1.600</td>\n",
       "      <td>0.061</td>\n",
       "      <td>1.460</td>\n",
       "      <td>1.790</td>\n",
       "      <td>0.195</td>\n",
       "      <td>0.038</td>\n",
       "      <td>1.405</td>\n",
       "      <td>0.06</td>\n",
       "      <td>1.22</td>\n",
       "      <td>1.549</td>\n",
       "      <td>0.043</td>\n",
       "      <td>5</td>\n",
       "      <td>2004</td>\n",
       "    </tr>\n",
       "    <tr>\n",
       "      <th>43550</th>\n",
       "      <td>43550</td>\n",
       "      <td>2004-05-09</td>\n",
       "      <td>2004-05-15</td>\n",
       "      <td>CENTRO OESTE</td>\n",
       "      <td>MATO GROSSO DO SUL</td>\n",
       "      <td>ÓLEO DIESEL</td>\n",
       "      <td>157</td>\n",
       "      <td>R$/l</td>\n",
       "      <td>1.526</td>\n",
       "      <td>0.045</td>\n",
       "      <td>1.399</td>\n",
       "      <td>1.659</td>\n",
       "      <td>0.163</td>\n",
       "      <td>0.029</td>\n",
       "      <td>1.363</td>\n",
       "      <td>0.022</td>\n",
       "      <td>1.3055</td>\n",
       "      <td>1.4407</td>\n",
       "      <td>0.016</td>\n",
       "      <td>5</td>\n",
       "      <td>2004</td>\n",
       "    </tr>\n",
       "    <tr>\n",
       "      <th>43551</th>\n",
       "      <td>43551</td>\n",
       "      <td>2004-05-09</td>\n",
       "      <td>2004-05-15</td>\n",
       "      <td>NORDESTE</td>\n",
       "      <td>ALAGOAS</td>\n",
       "      <td>ÓLEO DIESEL</td>\n",
       "      <td>105</td>\n",
       "      <td>R$/l</td>\n",
       "      <td>1.362</td>\n",
       "      <td>0.025</td>\n",
       "      <td>1.310</td>\n",
       "      <td>1.450</td>\n",
       "      <td>0.146</td>\n",
       "      <td>0.018</td>\n",
       "      <td>1.216</td>\n",
       "      <td>0.02</td>\n",
       "      <td>1.1768</td>\n",
       "      <td>1.272</td>\n",
       "      <td>0.016</td>\n",
       "      <td>5</td>\n",
       "      <td>2004</td>\n",
       "    </tr>\n",
       "  </tbody>\n",
       "</table>\n",
       "</div>"
      ],
      "text/plain": [
       "       Unnamed: 0 DATA INICIAL  DATA FINAL        REGIÃO              ESTADO  \\\n",
       "43547       43547   2004-05-09  2004-05-15  CENTRO OESTE    DISTRITO FEDERAL   \n",
       "43548       43548   2004-05-09  2004-05-15  CENTRO OESTE               GOIAS   \n",
       "43549       43549   2004-05-09  2004-05-15  CENTRO OESTE         MATO GROSSO   \n",
       "43550       43550   2004-05-09  2004-05-15  CENTRO OESTE  MATO GROSSO DO SUL   \n",
       "43551       43551   2004-05-09  2004-05-15      NORDESTE             ALAGOAS   \n",
       "\n",
       "           PRODUTO  NÚMERO DE POSTOS PESQUISADOS UNIDADE DE MEDIDA  \\\n",
       "43547  ÓLEO DIESEL                           125              R$/l   \n",
       "43548  ÓLEO DIESEL                           373              R$/l   \n",
       "43549  ÓLEO DIESEL                           190              R$/l   \n",
       "43550  ÓLEO DIESEL                           157              R$/l   \n",
       "43551  ÓLEO DIESEL                           105              R$/l   \n",
       "\n",
       "       PREÇO MÉDIO REVENDA  DESVIO PADRÃO REVENDA  PREÇO MÍNIMO REVENDA  \\\n",
       "43547                1.447                  0.031                 1.350   \n",
       "43548                1.437                  0.059                 1.300   \n",
       "43549                1.600                  0.061                 1.460   \n",
       "43550                1.526                  0.045                 1.399   \n",
       "43551                1.362                  0.025                 1.310   \n",
       "\n",
       "       PREÇO MÁXIMO REVENDA MARGEM MÉDIA REVENDA  COEF DE VARIAÇÃO REVENDA  \\\n",
       "43547                 1.490                0.198                     0.021   \n",
       "43548                 1.660                0.157                     0.041   \n",
       "43549                 1.790                0.195                     0.038   \n",
       "43550                 1.659                0.163                     0.029   \n",
       "43551                 1.450                0.146                     0.018   \n",
       "\n",
       "      PREÇO MÉDIO DISTRIBUIÇÃO DESVIO PADRÃO DISTRIBUIÇÃO  \\\n",
       "43547                    1.249                      0.012   \n",
       "43548                     1.28                      0.024   \n",
       "43549                    1.405                       0.06   \n",
       "43550                    1.363                      0.022   \n",
       "43551                    1.216                       0.02   \n",
       "\n",
       "      PREÇO MÍNIMO DISTRIBUIÇÃO PREÇO MÁXIMO DISTRIBUIÇÃO  \\\n",
       "43547                    1.2153                    1.2817   \n",
       "43548                    1.2119                    1.3801   \n",
       "43549                      1.22                     1.549   \n",
       "43550                    1.3055                    1.4407   \n",
       "43551                    1.1768                     1.272   \n",
       "\n",
       "      COEF DE VARIAÇÃO DISTRIBUIÇÃO  MÊS   ANO  \n",
       "43547                          0.01    5  2004  \n",
       "43548                         0.019    5  2004  \n",
       "43549                         0.043    5  2004  \n",
       "43550                         0.016    5  2004  \n",
       "43551                         0.016    5  2004  "
      ]
     },
     "execution_count": 8,
     "metadata": {},
     "output_type": "execute_result"
    }
   ],
   "source": [
    "diesel.head()"
   ]
  },
  {
   "cell_type": "markdown",
   "metadata": {
    "slideshow": {
     "slide_type": "slide"
    }
   },
   "source": [
    "# Validação"
   ]
  },
  {
   "cell_type": "code",
   "execution_count": 9,
   "metadata": {
    "slideshow": {
     "slide_type": "-"
    }
   },
   "outputs": [],
   "source": [
    "diesel['DATA INICIAL'] = pd.to_datetime(diesel['DATA INICIAL'])\n",
    "diesel['DATA FINAL'] = pd.to_datetime(diesel['DATA FINAL'])"
   ]
  },
  {
   "cell_type": "code",
   "execution_count": 10,
   "metadata": {
    "slideshow": {
     "slide_type": "-"
    }
   },
   "outputs": [
    {
     "data": {
      "text/plain": [
       "6 days    21194\n",
       "dtype: int64"
      ]
     },
     "execution_count": 10,
     "metadata": {},
     "output_type": "execute_result"
    }
   ],
   "source": [
    "(diesel['DATA FINAL']  - diesel['DATA INICIAL']).value_counts()"
   ]
  },
  {
   "cell_type": "code",
   "execution_count": 11,
   "metadata": {
    "slideshow": {
     "slide_type": "slide"
    }
   },
   "outputs": [
    {
     "data": {
      "text/plain": [
       "((9233, 21), (11961, 21))"
      ]
     },
     "execution_count": 11,
     "metadata": {},
     "output_type": "execute_result"
    }
   ],
   "source": [
    "diesel_treino = diesel[diesel['DATA FINAL'] < \"2011-01-01\"]\n",
    "diesel_valid = diesel[diesel['DATA FINAL'] >= \"2011-01-01\"]\n",
    "diesel_treino.shape, diesel_valid.shape"
   ]
  },
  {
   "cell_type": "markdown",
   "metadata": {
    "slideshow": {
     "slide_type": "slide"
    }
   },
   "source": [
    "# Baseline"
   ]
  },
  {
   "cell_type": "code",
   "execution_count": 12,
   "metadata": {
    "slideshow": {
     "slide_type": "-"
    }
   },
   "outputs": [],
   "source": [
    "y_treino = diesel_treino['PREÇO MÉDIO REVENDA']\n",
    "y_valid = diesel_valid['PREÇO MÉDIO REVENDA']"
   ]
  },
  {
   "cell_type": "code",
   "execution_count": 13,
   "metadata": {
    "slideshow": {
     "slide_type": "-"
    }
   },
   "outputs": [],
   "source": [
    "baseline_treino = diesel_treino.groupby(['ESTADO'])['PREÇO MÉDIO REVENDA'].shift(1)\n",
    "baseline_valid = diesel_valid.groupby(['ESTADO'])['PREÇO MÉDIO REVENDA'].shift(1)"
   ]
  },
  {
   "cell_type": "code",
   "execution_count": 14,
   "metadata": {
    "slideshow": {
     "slide_type": "-"
    }
   },
   "outputs": [],
   "source": [
    "diesel_treino['baseline'] = baseline_treino"
   ]
  },
  {
   "cell_type": "code",
   "execution_count": 15,
   "metadata": {
    "slideshow": {
     "slide_type": "-"
    }
   },
   "outputs": [
    {
     "data": {
      "text/html": [
       "<div>\n",
       "<style scoped>\n",
       "    .dataframe tbody tr th:only-of-type {\n",
       "        vertical-align: middle;\n",
       "    }\n",
       "\n",
       "    .dataframe tbody tr th {\n",
       "        vertical-align: top;\n",
       "    }\n",
       "\n",
       "    .dataframe thead th {\n",
       "        text-align: right;\n",
       "    }\n",
       "</style>\n",
       "<table border=\"1\" class=\"dataframe\">\n",
       "  <thead>\n",
       "    <tr style=\"text-align: right;\">\n",
       "      <th></th>\n",
       "      <th>Unnamed: 0</th>\n",
       "      <th>DATA INICIAL</th>\n",
       "      <th>DATA FINAL</th>\n",
       "      <th>REGIÃO</th>\n",
       "      <th>ESTADO</th>\n",
       "      <th>PRODUTO</th>\n",
       "      <th>NÚMERO DE POSTOS PESQUISADOS</th>\n",
       "      <th>UNIDADE DE MEDIDA</th>\n",
       "      <th>PREÇO MÉDIO REVENDA</th>\n",
       "      <th>DESVIO PADRÃO REVENDA</th>\n",
       "      <th>PREÇO MÍNIMO REVENDA</th>\n",
       "      <th>PREÇO MÁXIMO REVENDA</th>\n",
       "      <th>MARGEM MÉDIA REVENDA</th>\n",
       "      <th>COEF DE VARIAÇÃO REVENDA</th>\n",
       "      <th>PREÇO MÉDIO DISTRIBUIÇÃO</th>\n",
       "      <th>DESVIO PADRÃO DISTRIBUIÇÃO</th>\n",
       "      <th>PREÇO MÍNIMO DISTRIBUIÇÃO</th>\n",
       "      <th>PREÇO MÁXIMO DISTRIBUIÇÃO</th>\n",
       "      <th>COEF DE VARIAÇÃO DISTRIBUIÇÃO</th>\n",
       "      <th>MÊS</th>\n",
       "      <th>ANO</th>\n",
       "      <th>baseline</th>\n",
       "    </tr>\n",
       "  </thead>\n",
       "  <tbody>\n",
       "    <tr>\n",
       "      <th>43570</th>\n",
       "      <td>43570</td>\n",
       "      <td>2004-05-09</td>\n",
       "      <td>2004-05-15</td>\n",
       "      <td>SUDESTE</td>\n",
       "      <td>SAO PAULO</td>\n",
       "      <td>ÓLEO DIESEL</td>\n",
       "      <td>3196</td>\n",
       "      <td>R$/l</td>\n",
       "      <td>1.368</td>\n",
       "      <td>0.057</td>\n",
       "      <td>1.210</td>\n",
       "      <td>1.590</td>\n",
       "      <td>0.158</td>\n",
       "      <td>0.042</td>\n",
       "      <td>1.21</td>\n",
       "      <td>0.026</td>\n",
       "      <td>1.141</td>\n",
       "      <td>1.369</td>\n",
       "      <td>0.021</td>\n",
       "      <td>5</td>\n",
       "      <td>2004</td>\n",
       "      <td>NaN</td>\n",
       "    </tr>\n",
       "    <tr>\n",
       "      <th>43597</th>\n",
       "      <td>43597</td>\n",
       "      <td>2004-05-16</td>\n",
       "      <td>2004-05-22</td>\n",
       "      <td>SUDESTE</td>\n",
       "      <td>SAO PAULO</td>\n",
       "      <td>ÓLEO DIESEL</td>\n",
       "      <td>3201</td>\n",
       "      <td>R$/l</td>\n",
       "      <td>1.368</td>\n",
       "      <td>0.057</td>\n",
       "      <td>1.239</td>\n",
       "      <td>1.599</td>\n",
       "      <td>0.158</td>\n",
       "      <td>0.042</td>\n",
       "      <td>1.21</td>\n",
       "      <td>0.026</td>\n",
       "      <td>1.125</td>\n",
       "      <td>1.369</td>\n",
       "      <td>0.021</td>\n",
       "      <td>5</td>\n",
       "      <td>2004</td>\n",
       "      <td>1.368</td>\n",
       "    </tr>\n",
       "    <tr>\n",
       "      <th>43624</th>\n",
       "      <td>43624</td>\n",
       "      <td>2004-05-23</td>\n",
       "      <td>2004-05-29</td>\n",
       "      <td>SUDESTE</td>\n",
       "      <td>SAO PAULO</td>\n",
       "      <td>ÓLEO DIESEL</td>\n",
       "      <td>3216</td>\n",
       "      <td>R$/l</td>\n",
       "      <td>1.368</td>\n",
       "      <td>0.057</td>\n",
       "      <td>1.220</td>\n",
       "      <td>1.590</td>\n",
       "      <td>0.159</td>\n",
       "      <td>0.042</td>\n",
       "      <td>1.209</td>\n",
       "      <td>0.025</td>\n",
       "      <td>1.125</td>\n",
       "      <td>1.369</td>\n",
       "      <td>0.021</td>\n",
       "      <td>5</td>\n",
       "      <td>2004</td>\n",
       "      <td>1.368</td>\n",
       "    </tr>\n",
       "    <tr>\n",
       "      <th>43651</th>\n",
       "      <td>43651</td>\n",
       "      <td>2004-05-30</td>\n",
       "      <td>2004-06-05</td>\n",
       "      <td>SUDESTE</td>\n",
       "      <td>SAO PAULO</td>\n",
       "      <td>ÓLEO DIESEL</td>\n",
       "      <td>3200</td>\n",
       "      <td>R$/l</td>\n",
       "      <td>1.368</td>\n",
       "      <td>0.057</td>\n",
       "      <td>1.220</td>\n",
       "      <td>1.669</td>\n",
       "      <td>0.159</td>\n",
       "      <td>0.042</td>\n",
       "      <td>1.209</td>\n",
       "      <td>0.025</td>\n",
       "      <td>1.125</td>\n",
       "      <td>1.369</td>\n",
       "      <td>0.021</td>\n",
       "      <td>5</td>\n",
       "      <td>2004</td>\n",
       "      <td>1.368</td>\n",
       "    </tr>\n",
       "    <tr>\n",
       "      <th>43678</th>\n",
       "      <td>43678</td>\n",
       "      <td>2004-06-06</td>\n",
       "      <td>2004-06-12</td>\n",
       "      <td>SUDESTE</td>\n",
       "      <td>SAO PAULO</td>\n",
       "      <td>ÓLEO DIESEL</td>\n",
       "      <td>3222</td>\n",
       "      <td>R$/l</td>\n",
       "      <td>1.369</td>\n",
       "      <td>0.056</td>\n",
       "      <td>1.220</td>\n",
       "      <td>1.590</td>\n",
       "      <td>0.159</td>\n",
       "      <td>0.041</td>\n",
       "      <td>1.21</td>\n",
       "      <td>0.025</td>\n",
       "      <td>1.125</td>\n",
       "      <td>1.369</td>\n",
       "      <td>0.021</td>\n",
       "      <td>6</td>\n",
       "      <td>2004</td>\n",
       "      <td>1.368</td>\n",
       "    </tr>\n",
       "  </tbody>\n",
       "</table>\n",
       "</div>"
      ],
      "text/plain": [
       "       Unnamed: 0 DATA INICIAL DATA FINAL   REGIÃO     ESTADO      PRODUTO  \\\n",
       "43570       43570   2004-05-09 2004-05-15  SUDESTE  SAO PAULO  ÓLEO DIESEL   \n",
       "43597       43597   2004-05-16 2004-05-22  SUDESTE  SAO PAULO  ÓLEO DIESEL   \n",
       "43624       43624   2004-05-23 2004-05-29  SUDESTE  SAO PAULO  ÓLEO DIESEL   \n",
       "43651       43651   2004-05-30 2004-06-05  SUDESTE  SAO PAULO  ÓLEO DIESEL   \n",
       "43678       43678   2004-06-06 2004-06-12  SUDESTE  SAO PAULO  ÓLEO DIESEL   \n",
       "\n",
       "       NÚMERO DE POSTOS PESQUISADOS UNIDADE DE MEDIDA  PREÇO MÉDIO REVENDA  \\\n",
       "43570                          3196              R$/l                1.368   \n",
       "43597                          3201              R$/l                1.368   \n",
       "43624                          3216              R$/l                1.368   \n",
       "43651                          3200              R$/l                1.368   \n",
       "43678                          3222              R$/l                1.369   \n",
       "\n",
       "       DESVIO PADRÃO REVENDA  PREÇO MÍNIMO REVENDA  PREÇO MÁXIMO REVENDA  \\\n",
       "43570                  0.057                 1.210                 1.590   \n",
       "43597                  0.057                 1.239                 1.599   \n",
       "43624                  0.057                 1.220                 1.590   \n",
       "43651                  0.057                 1.220                 1.669   \n",
       "43678                  0.056                 1.220                 1.590   \n",
       "\n",
       "      MARGEM MÉDIA REVENDA  COEF DE VARIAÇÃO REVENDA PREÇO MÉDIO DISTRIBUIÇÃO  \\\n",
       "43570                0.158                     0.042                     1.21   \n",
       "43597                0.158                     0.042                     1.21   \n",
       "43624                0.159                     0.042                    1.209   \n",
       "43651                0.159                     0.042                    1.209   \n",
       "43678                0.159                     0.041                     1.21   \n",
       "\n",
       "      DESVIO PADRÃO DISTRIBUIÇÃO PREÇO MÍNIMO DISTRIBUIÇÃO  \\\n",
       "43570                      0.026                     1.141   \n",
       "43597                      0.026                     1.125   \n",
       "43624                      0.025                     1.125   \n",
       "43651                      0.025                     1.125   \n",
       "43678                      0.025                     1.125   \n",
       "\n",
       "      PREÇO MÁXIMO DISTRIBUIÇÃO COEF DE VARIAÇÃO DISTRIBUIÇÃO  MÊS   ANO  \\\n",
       "43570                     1.369                         0.021    5  2004   \n",
       "43597                     1.369                         0.021    5  2004   \n",
       "43624                     1.369                         0.021    5  2004   \n",
       "43651                     1.369                         0.021    5  2004   \n",
       "43678                     1.369                         0.021    6  2004   \n",
       "\n",
       "       baseline  \n",
       "43570       NaN  \n",
       "43597     1.368  \n",
       "43624     1.368  \n",
       "43651     1.368  \n",
       "43678     1.368  "
      ]
     },
     "execution_count": 15,
     "metadata": {},
     "output_type": "execute_result"
    }
   ],
   "source": [
    "diesel_treino[diesel_treino['ESTADO'] == 'SAO PAULO'].head()"
   ]
  },
  {
   "cell_type": "code",
   "execution_count": 16,
   "metadata": {
    "slideshow": {
     "slide_type": "slide"
    }
   },
   "outputs": [
    {
     "data": {
      "text/plain": [
       "0.008133639513965776"
      ]
     },
     "execution_count": 16,
     "metadata": {},
     "output_type": "execute_result"
    }
   ],
   "source": [
    "from sklearn.metrics import mean_squared_log_error\n",
    "\n",
    "np.sqrt(mean_squared_log_error(y_valid[baseline_valid.notnull()], \n",
    "                               baseline_valid[baseline_valid.notnull()]))"
   ]
  },
  {
   "cell_type": "code",
   "execution_count": 17,
   "metadata": {},
   "outputs": [
    {
     "data": {
      "text/plain": [
       "0.8133639513965776"
      ]
     },
     "execution_count": 17,
     "metadata": {},
     "output_type": "execute_result"
    }
   ],
   "source": [
    "0.008133639513965776 * 100"
   ]
  },
  {
   "cell_type": "markdown",
   "metadata": {
    "slideshow": {
     "slide_type": "slide"
    }
   },
   "source": [
    "# Machine Learning"
   ]
  },
  {
   "cell_type": "code",
   "execution_count": 18,
   "metadata": {},
   "outputs": [
    {
     "data": {
      "text/html": [
       "<div>\n",
       "<style scoped>\n",
       "    .dataframe tbody tr th:only-of-type {\n",
       "        vertical-align: middle;\n",
       "    }\n",
       "\n",
       "    .dataframe tbody tr th {\n",
       "        vertical-align: top;\n",
       "    }\n",
       "\n",
       "    .dataframe thead th {\n",
       "        text-align: right;\n",
       "    }\n",
       "</style>\n",
       "<table border=\"1\" class=\"dataframe\">\n",
       "  <thead>\n",
       "    <tr style=\"text-align: right;\">\n",
       "      <th></th>\n",
       "      <th>Unnamed: 0</th>\n",
       "      <th>DATA INICIAL</th>\n",
       "      <th>DATA FINAL</th>\n",
       "      <th>REGIÃO</th>\n",
       "      <th>ESTADO</th>\n",
       "      <th>PRODUTO</th>\n",
       "      <th>NÚMERO DE POSTOS PESQUISADOS</th>\n",
       "      <th>UNIDADE DE MEDIDA</th>\n",
       "      <th>PREÇO MÉDIO REVENDA</th>\n",
       "      <th>DESVIO PADRÃO REVENDA</th>\n",
       "      <th>PREÇO MÍNIMO REVENDA</th>\n",
       "      <th>PREÇO MÁXIMO REVENDA</th>\n",
       "      <th>MARGEM MÉDIA REVENDA</th>\n",
       "      <th>COEF DE VARIAÇÃO REVENDA</th>\n",
       "      <th>PREÇO MÉDIO DISTRIBUIÇÃO</th>\n",
       "      <th>DESVIO PADRÃO DISTRIBUIÇÃO</th>\n",
       "      <th>PREÇO MÍNIMO DISTRIBUIÇÃO</th>\n",
       "      <th>PREÇO MÁXIMO DISTRIBUIÇÃO</th>\n",
       "      <th>COEF DE VARIAÇÃO DISTRIBUIÇÃO</th>\n",
       "      <th>MÊS</th>\n",
       "      <th>ANO</th>\n",
       "      <th>baseline</th>\n",
       "    </tr>\n",
       "  </thead>\n",
       "  <tbody>\n",
       "    <tr>\n",
       "      <th>43547</th>\n",
       "      <td>43547</td>\n",
       "      <td>2004-05-09</td>\n",
       "      <td>2004-05-15</td>\n",
       "      <td>CENTRO OESTE</td>\n",
       "      <td>DISTRITO FEDERAL</td>\n",
       "      <td>ÓLEO DIESEL</td>\n",
       "      <td>125</td>\n",
       "      <td>R$/l</td>\n",
       "      <td>1.447</td>\n",
       "      <td>0.031</td>\n",
       "      <td>1.350</td>\n",
       "      <td>1.490</td>\n",
       "      <td>0.198</td>\n",
       "      <td>0.021</td>\n",
       "      <td>1.249</td>\n",
       "      <td>0.012</td>\n",
       "      <td>1.2153</td>\n",
       "      <td>1.2817</td>\n",
       "      <td>0.01</td>\n",
       "      <td>5</td>\n",
       "      <td>2004</td>\n",
       "      <td>NaN</td>\n",
       "    </tr>\n",
       "    <tr>\n",
       "      <th>43548</th>\n",
       "      <td>43548</td>\n",
       "      <td>2004-05-09</td>\n",
       "      <td>2004-05-15</td>\n",
       "      <td>CENTRO OESTE</td>\n",
       "      <td>GOIAS</td>\n",
       "      <td>ÓLEO DIESEL</td>\n",
       "      <td>373</td>\n",
       "      <td>R$/l</td>\n",
       "      <td>1.437</td>\n",
       "      <td>0.059</td>\n",
       "      <td>1.300</td>\n",
       "      <td>1.660</td>\n",
       "      <td>0.157</td>\n",
       "      <td>0.041</td>\n",
       "      <td>1.28</td>\n",
       "      <td>0.024</td>\n",
       "      <td>1.2119</td>\n",
       "      <td>1.3801</td>\n",
       "      <td>0.019</td>\n",
       "      <td>5</td>\n",
       "      <td>2004</td>\n",
       "      <td>NaN</td>\n",
       "    </tr>\n",
       "    <tr>\n",
       "      <th>43549</th>\n",
       "      <td>43549</td>\n",
       "      <td>2004-05-09</td>\n",
       "      <td>2004-05-15</td>\n",
       "      <td>CENTRO OESTE</td>\n",
       "      <td>MATO GROSSO</td>\n",
       "      <td>ÓLEO DIESEL</td>\n",
       "      <td>190</td>\n",
       "      <td>R$/l</td>\n",
       "      <td>1.600</td>\n",
       "      <td>0.061</td>\n",
       "      <td>1.460</td>\n",
       "      <td>1.790</td>\n",
       "      <td>0.195</td>\n",
       "      <td>0.038</td>\n",
       "      <td>1.405</td>\n",
       "      <td>0.06</td>\n",
       "      <td>1.22</td>\n",
       "      <td>1.549</td>\n",
       "      <td>0.043</td>\n",
       "      <td>5</td>\n",
       "      <td>2004</td>\n",
       "      <td>NaN</td>\n",
       "    </tr>\n",
       "    <tr>\n",
       "      <th>43550</th>\n",
       "      <td>43550</td>\n",
       "      <td>2004-05-09</td>\n",
       "      <td>2004-05-15</td>\n",
       "      <td>CENTRO OESTE</td>\n",
       "      <td>MATO GROSSO DO SUL</td>\n",
       "      <td>ÓLEO DIESEL</td>\n",
       "      <td>157</td>\n",
       "      <td>R$/l</td>\n",
       "      <td>1.526</td>\n",
       "      <td>0.045</td>\n",
       "      <td>1.399</td>\n",
       "      <td>1.659</td>\n",
       "      <td>0.163</td>\n",
       "      <td>0.029</td>\n",
       "      <td>1.363</td>\n",
       "      <td>0.022</td>\n",
       "      <td>1.3055</td>\n",
       "      <td>1.4407</td>\n",
       "      <td>0.016</td>\n",
       "      <td>5</td>\n",
       "      <td>2004</td>\n",
       "      <td>NaN</td>\n",
       "    </tr>\n",
       "    <tr>\n",
       "      <th>43551</th>\n",
       "      <td>43551</td>\n",
       "      <td>2004-05-09</td>\n",
       "      <td>2004-05-15</td>\n",
       "      <td>NORDESTE</td>\n",
       "      <td>ALAGOAS</td>\n",
       "      <td>ÓLEO DIESEL</td>\n",
       "      <td>105</td>\n",
       "      <td>R$/l</td>\n",
       "      <td>1.362</td>\n",
       "      <td>0.025</td>\n",
       "      <td>1.310</td>\n",
       "      <td>1.450</td>\n",
       "      <td>0.146</td>\n",
       "      <td>0.018</td>\n",
       "      <td>1.216</td>\n",
       "      <td>0.02</td>\n",
       "      <td>1.1768</td>\n",
       "      <td>1.272</td>\n",
       "      <td>0.016</td>\n",
       "      <td>5</td>\n",
       "      <td>2004</td>\n",
       "      <td>NaN</td>\n",
       "    </tr>\n",
       "  </tbody>\n",
       "</table>\n",
       "</div>"
      ],
      "text/plain": [
       "       Unnamed: 0 DATA INICIAL DATA FINAL        REGIÃO              ESTADO  \\\n",
       "43547       43547   2004-05-09 2004-05-15  CENTRO OESTE    DISTRITO FEDERAL   \n",
       "43548       43548   2004-05-09 2004-05-15  CENTRO OESTE               GOIAS   \n",
       "43549       43549   2004-05-09 2004-05-15  CENTRO OESTE         MATO GROSSO   \n",
       "43550       43550   2004-05-09 2004-05-15  CENTRO OESTE  MATO GROSSO DO SUL   \n",
       "43551       43551   2004-05-09 2004-05-15      NORDESTE             ALAGOAS   \n",
       "\n",
       "           PRODUTO  NÚMERO DE POSTOS PESQUISADOS UNIDADE DE MEDIDA  \\\n",
       "43547  ÓLEO DIESEL                           125              R$/l   \n",
       "43548  ÓLEO DIESEL                           373              R$/l   \n",
       "43549  ÓLEO DIESEL                           190              R$/l   \n",
       "43550  ÓLEO DIESEL                           157              R$/l   \n",
       "43551  ÓLEO DIESEL                           105              R$/l   \n",
       "\n",
       "       PREÇO MÉDIO REVENDA  DESVIO PADRÃO REVENDA  PREÇO MÍNIMO REVENDA  \\\n",
       "43547                1.447                  0.031                 1.350   \n",
       "43548                1.437                  0.059                 1.300   \n",
       "43549                1.600                  0.061                 1.460   \n",
       "43550                1.526                  0.045                 1.399   \n",
       "43551                1.362                  0.025                 1.310   \n",
       "\n",
       "       PREÇO MÁXIMO REVENDA MARGEM MÉDIA REVENDA  COEF DE VARIAÇÃO REVENDA  \\\n",
       "43547                 1.490                0.198                     0.021   \n",
       "43548                 1.660                0.157                     0.041   \n",
       "43549                 1.790                0.195                     0.038   \n",
       "43550                 1.659                0.163                     0.029   \n",
       "43551                 1.450                0.146                     0.018   \n",
       "\n",
       "      PREÇO MÉDIO DISTRIBUIÇÃO DESVIO PADRÃO DISTRIBUIÇÃO  \\\n",
       "43547                    1.249                      0.012   \n",
       "43548                     1.28                      0.024   \n",
       "43549                    1.405                       0.06   \n",
       "43550                    1.363                      0.022   \n",
       "43551                    1.216                       0.02   \n",
       "\n",
       "      PREÇO MÍNIMO DISTRIBUIÇÃO PREÇO MÁXIMO DISTRIBUIÇÃO  \\\n",
       "43547                    1.2153                    1.2817   \n",
       "43548                    1.2119                    1.3801   \n",
       "43549                      1.22                     1.549   \n",
       "43550                    1.3055                    1.4407   \n",
       "43551                    1.1768                     1.272   \n",
       "\n",
       "      COEF DE VARIAÇÃO DISTRIBUIÇÃO  MÊS   ANO  baseline  \n",
       "43547                          0.01    5  2004       NaN  \n",
       "43548                         0.019    5  2004       NaN  \n",
       "43549                         0.043    5  2004       NaN  \n",
       "43550                         0.016    5  2004       NaN  \n",
       "43551                         0.016    5  2004       NaN  "
      ]
     },
     "execution_count": 18,
     "metadata": {},
     "output_type": "execute_result"
    }
   ],
   "source": [
    "diesel_treino.head()"
   ]
  },
  {
   "cell_type": "code",
   "execution_count": 19,
   "metadata": {
    "slideshow": {
     "slide_type": "-"
    }
   },
   "outputs": [],
   "source": [
    "df_X_treino = pd.DataFrame(index=diesel_treino.index)\n",
    "df_X_valid = pd.DataFrame(index=diesel_valid.index)"
   ]
  },
  {
   "cell_type": "markdown",
   "metadata": {
    "slideshow": {
     "slide_type": "slide"
    }
   },
   "source": [
    "## Target"
   ]
  },
  {
   "cell_type": "code",
   "execution_count": 20,
   "metadata": {
    "slideshow": {
     "slide_type": "-"
    }
   },
   "outputs": [
    {
     "data": {
      "text/plain": [
       "<matplotlib.axes._subplots.AxesSubplot at 0x7f1bac684ac8>"
      ]
     },
     "execution_count": 20,
     "metadata": {},
     "output_type": "execute_result"
    },
    {
     "data": {
      "image/png": "[encoded data removed]",
      "text/plain": [
       "<Figure size 432x288 with 1 Axes>"
      ]
     },
     "metadata": {
      "needs_background": "light"
     },
     "output_type": "display_data"
    }
   ],
   "source": [
    "diesel_treino.plot(x='DATA FINAL', y='PREÇO MÉDIO REVENDA')"
   ]
  },
  {
   "cell_type": "code",
   "execution_count": 21,
   "metadata": {
    "slideshow": {
     "slide_type": "slide"
    }
   },
   "outputs": [
    {
     "data": {
      "text/plain": [
       "<matplotlib.axes._subplots.AxesSubplot at 0x7f1ba92ad898>"
      ]
     },
     "execution_count": 21,
     "metadata": {},
     "output_type": "execute_result"
    },
    {
     "data": {
      "image/png": "[encoded data removed]",
      "text/plain": [
       "<Figure size 432x288 with 1 Axes>"
      ]
     },
     "metadata": {
      "needs_background": "light"
     },
     "output_type": "display_data"
    }
   ],
   "source": [
    "def target_diff(x):\n",
    "    return x.diff().shift(-1)\n",
    "\n",
    "diesel_treino['DIFF PREÇO MÉDIO REVENDA'] = diesel_treino.groupby(['ESTADO'])['PREÇO MÉDIO REVENDA'].apply(target_diff)\n",
    "\n",
    "diesel_treino.plot(x='DATA FINAL', y='DIFF PREÇO MÉDIO REVENDA')"
   ]
  },
  {
   "cell_type": "code",
   "execution_count": 22,
   "metadata": {
    "slideshow": {
     "slide_type": "-"
    }
   },
   "outputs": [],
   "source": [
    "df_X_treino['DIFF_PRECO_MEDIO_REVENDA_PROXIMA_SEMANA'] = diesel_treino.groupby(['ESTADO'])['PREÇO MÉDIO REVENDA'].apply(target_diff)\n",
    "df_X_valid['DIFF_PRECO_MEDIO_REVENDA_PROXIMA_SEMANA'] = diesel_valid.groupby(['ESTADO'])['PREÇO MÉDIO REVENDA'].apply(target_diff)"
   ]
  },
  {
   "cell_type": "markdown",
   "metadata": {
    "slideshow": {
     "slide_type": "slide"
    }
   },
   "source": [
    "### Sazonal"
   ]
  },
  {
   "cell_type": "code",
   "execution_count": 23,
   "metadata": {
    "slideshow": {
     "slide_type": "-"
    }
   },
   "outputs": [],
   "source": [
    "df_X_treino['MES'] = diesel_treino['DATA FINAL'].dt.month\n",
    "df_X_treino['DIA'] = diesel_treino['DATA FINAL'].dt.day\n",
    "df_X_treino['DIA_DA_SEMANA'] = diesel_treino['DATA FINAL'].dt.weekday\n",
    "df_X_treino['DIA_DO_ANO'] = diesel_treino['DATA FINAL'].dt.dayofyear\n",
    "\n",
    "\n",
    "df_X_valid['MES'] = diesel_valid['DATA FINAL'].dt.month\n",
    "df_X_valid['DIA'] = diesel_valid['DATA FINAL'].dt.day\n",
    "df_X_valid['DIA_DA_SEMANA'] = diesel_valid['DATA FINAL'].dt.weekday\n",
    "df_X_valid['DIA_DO_ANO'] = diesel_valid['DATA FINAL'].dt.dayofyear"
   ]
  },
  {
   "cell_type": "code",
   "execution_count": 24,
   "metadata": {
    "slideshow": {
     "slide_type": "-"
    }
   },
   "outputs": [
    {
     "data": {
      "text/html": [
       "<div>\n",
       "<style scoped>\n",
       "    .dataframe tbody tr th:only-of-type {\n",
       "        vertical-align: middle;\n",
       "    }\n",
       "\n",
       "    .dataframe tbody tr th {\n",
       "        vertical-align: top;\n",
       "    }\n",
       "\n",
       "    .dataframe thead th {\n",
       "        text-align: right;\n",
       "    }\n",
       "</style>\n",
       "<table border=\"1\" class=\"dataframe\">\n",
       "  <thead>\n",
       "    <tr style=\"text-align: right;\">\n",
       "      <th></th>\n",
       "      <th>DIFF_PRECO_MEDIO_REVENDA_PROXIMA_SEMANA</th>\n",
       "      <th>MES</th>\n",
       "      <th>DIA</th>\n",
       "      <th>DIA_DA_SEMANA</th>\n",
       "      <th>DIA_DO_ANO</th>\n",
       "    </tr>\n",
       "  </thead>\n",
       "  <tbody>\n",
       "    <tr>\n",
       "      <th>43547</th>\n",
       "      <td>0.013</td>\n",
       "      <td>5</td>\n",
       "      <td>15</td>\n",
       "      <td>5</td>\n",
       "      <td>136</td>\n",
       "    </tr>\n",
       "    <tr>\n",
       "      <th>43548</th>\n",
       "      <td>0.001</td>\n",
       "      <td>5</td>\n",
       "      <td>15</td>\n",
       "      <td>5</td>\n",
       "      <td>136</td>\n",
       "    </tr>\n",
       "    <tr>\n",
       "      <th>43549</th>\n",
       "      <td>-0.003</td>\n",
       "      <td>5</td>\n",
       "      <td>15</td>\n",
       "      <td>5</td>\n",
       "      <td>136</td>\n",
       "    </tr>\n",
       "    <tr>\n",
       "      <th>43550</th>\n",
       "      <td>-0.002</td>\n",
       "      <td>5</td>\n",
       "      <td>15</td>\n",
       "      <td>5</td>\n",
       "      <td>136</td>\n",
       "    </tr>\n",
       "    <tr>\n",
       "      <th>43551</th>\n",
       "      <td>-0.003</td>\n",
       "      <td>5</td>\n",
       "      <td>15</td>\n",
       "      <td>5</td>\n",
       "      <td>136</td>\n",
       "    </tr>\n",
       "  </tbody>\n",
       "</table>\n",
       "</div>"
      ],
      "text/plain": [
       "       DIFF_PRECO_MEDIO_REVENDA_PROXIMA_SEMANA  MES  DIA  DIA_DA_SEMANA  \\\n",
       "43547                                    0.013    5   15              5   \n",
       "43548                                    0.001    5   15              5   \n",
       "43549                                   -0.003    5   15              5   \n",
       "43550                                   -0.002    5   15              5   \n",
       "43551                                   -0.003    5   15              5   \n",
       "\n",
       "       DIA_DO_ANO  \n",
       "43547         136  \n",
       "43548         136  \n",
       "43549         136  \n",
       "43550         136  \n",
       "43551         136  "
      ]
     },
     "execution_count": 24,
     "metadata": {},
     "output_type": "execute_result"
    }
   ],
   "source": [
    "df_X_treino.head()"
   ]
  },
  {
   "cell_type": "markdown",
   "metadata": {
    "slideshow": {
     "slide_type": "slide"
    }
   },
   "source": [
    "### Lag"
   ]
  },
  {
   "cell_type": "code",
   "execution_count": 25,
   "metadata": {
    "slideshow": {
     "slide_type": "-"
    }
   },
   "outputs": [],
   "source": [
    "df_X_treino['PRECO_MEDIO_REVENDA_ATUAL'] = diesel_treino['PREÇO MÉDIO REVENDA']\n",
    "df_X_valid['PRECO_MEDIO_REVENDA_ATUAL'] = diesel_valid['PREÇO MÉDIO REVENDA']"
   ]
  },
  {
   "cell_type": "markdown",
   "metadata": {
    "slideshow": {
     "slide_type": "slide"
    }
   },
   "source": [
    "### Diferença do Lag"
   ]
  },
  {
   "cell_type": "markdown",
   "metadata": {
    "slideshow": {
     "slide_type": "-"
    }
   },
   "source": [
    "**Diff_LAG = Yt-1 - Yt-2**"
   ]
  },
  {
   "cell_type": "code",
   "execution_count": 26,
   "metadata": {
    "slideshow": {
     "slide_type": "-"
    }
   },
   "outputs": [],
   "source": [
    "df_X_treino['DIFF_PRECO_MEDIO_REVENDA_ATUAL'] = diesel_treino.groupby(['ESTADO'])['PREÇO MÉDIO REVENDA'].diff()\n",
    "df_X_valid['DIFF_PRECO_MEDIO_REVENDA_ATUAL'] = diesel_valid.groupby(['ESTADO'])['PREÇO MÉDIO REVENDA'].diff()"
   ]
  },
  {
   "cell_type": "markdown",
   "metadata": {
    "slideshow": {
     "slide_type": "slide"
    }
   },
   "source": [
    "### Média Móvel"
   ]
  },
  {
   "cell_type": "code",
   "execution_count": 27,
   "metadata": {},
   "outputs": [
    {
     "data": {
      "text/plain": [
       "ESTADO       \n",
       "ACRE    43560       NaN\n",
       "        43587       NaN\n",
       "        43614       NaN\n",
       "        43641    1.7165\n",
       "        43668    1.7140\n",
       "Name: PREÇO MÉDIO REVENDA, dtype: float64"
      ]
     },
     "execution_count": 27,
     "metadata": {},
     "output_type": "execute_result"
    }
   ],
   "source": [
    "roll = diesel_treino.groupby(['ESTADO'])['PREÇO MÉDIO REVENDA'].rolling(4).mean()\n",
    "roll.head()"
   ]
  },
  {
   "cell_type": "code",
   "execution_count": 28,
   "metadata": {},
   "outputs": [
    {
     "data": {
      "text/plain": [
       "43560       NaN\n",
       "43587       NaN\n",
       "43614       NaN\n",
       "43641    1.7165\n",
       "43668    1.7140\n",
       "Name: PREÇO MÉDIO REVENDA, dtype: float64"
      ]
     },
     "execution_count": 28,
     "metadata": {},
     "output_type": "execute_result"
    }
   ],
   "source": [
    "roll.reset_index(level=0, drop=True).head()"
   ]
  },
  {
   "cell_type": "code",
   "execution_count": 29,
   "metadata": {},
   "outputs": [],
   "source": [
    "df_X_treino['MEDIA_MOVEL_PRECO_MEDIO_REVENDA_4_SEMANAS'] = diesel_treino.groupby(['ESTADO'])['PREÇO MÉDIO REVENDA'].rolling(4).mean().reset_index(level=0, drop=True)\n",
    "df_X_valid['MEDIA_MOVEL_PRECO_MEDIO_REVENDA_4_SEMANAS'] = diesel_valid.groupby(['ESTADO'])['PREÇO MÉDIO REVENDA'].rolling(4).mean().reset_index(level=0, drop=True)"
   ]
  },
  {
   "cell_type": "markdown",
   "metadata": {
    "slideshow": {
     "slide_type": "slide"
    }
   },
   "source": [
    "### Random Forest"
   ]
  },
  {
   "cell_type": "code",
   "execution_count": 30,
   "metadata": {},
   "outputs": [],
   "source": [
    "from sklearn.ensemble import RandomForestRegressor"
   ]
  },
  {
   "cell_type": "code",
   "execution_count": 31,
   "metadata": {},
   "outputs": [
    {
     "data": {
      "text/html": [
       "<div>\n",
       "<style scoped>\n",
       "    .dataframe tbody tr th:only-of-type {\n",
       "        vertical-align: middle;\n",
       "    }\n",
       "\n",
       "    .dataframe tbody tr th {\n",
       "        vertical-align: top;\n",
       "    }\n",
       "\n",
       "    .dataframe thead th {\n",
       "        text-align: right;\n",
       "    }\n",
       "</style>\n",
       "<table border=\"1\" class=\"dataframe\">\n",
       "  <thead>\n",
       "    <tr style=\"text-align: right;\">\n",
       "      <th></th>\n",
       "      <th>DIFF_PRECO_MEDIO_REVENDA_PROXIMA_SEMANA</th>\n",
       "      <th>MES</th>\n",
       "      <th>DIA</th>\n",
       "      <th>DIA_DA_SEMANA</th>\n",
       "      <th>DIA_DO_ANO</th>\n",
       "      <th>PRECO_MEDIO_REVENDA_ATUAL</th>\n",
       "      <th>DIFF_PRECO_MEDIO_REVENDA_ATUAL</th>\n",
       "      <th>MEDIA_MOVEL_PRECO_MEDIO_REVENDA_4_SEMANAS</th>\n",
       "    </tr>\n",
       "  </thead>\n",
       "  <tbody>\n",
       "    <tr>\n",
       "      <th>43547</th>\n",
       "      <td>0.013</td>\n",
       "      <td>5</td>\n",
       "      <td>15</td>\n",
       "      <td>5</td>\n",
       "      <td>136</td>\n",
       "      <td>1.447</td>\n",
       "      <td>NaN</td>\n",
       "      <td>NaN</td>\n",
       "    </tr>\n",
       "    <tr>\n",
       "      <th>43548</th>\n",
       "      <td>0.001</td>\n",
       "      <td>5</td>\n",
       "      <td>15</td>\n",
       "      <td>5</td>\n",
       "      <td>136</td>\n",
       "      <td>1.437</td>\n",
       "      <td>NaN</td>\n",
       "      <td>NaN</td>\n",
       "    </tr>\n",
       "    <tr>\n",
       "      <th>43549</th>\n",
       "      <td>-0.003</td>\n",
       "      <td>5</td>\n",
       "      <td>15</td>\n",
       "      <td>5</td>\n",
       "      <td>136</td>\n",
       "      <td>1.600</td>\n",
       "      <td>NaN</td>\n",
       "      <td>NaN</td>\n",
       "    </tr>\n",
       "    <tr>\n",
       "      <th>43550</th>\n",
       "      <td>-0.002</td>\n",
       "      <td>5</td>\n",
       "      <td>15</td>\n",
       "      <td>5</td>\n",
       "      <td>136</td>\n",
       "      <td>1.526</td>\n",
       "      <td>NaN</td>\n",
       "      <td>NaN</td>\n",
       "    </tr>\n",
       "    <tr>\n",
       "      <th>43551</th>\n",
       "      <td>-0.003</td>\n",
       "      <td>5</td>\n",
       "      <td>15</td>\n",
       "      <td>5</td>\n",
       "      <td>136</td>\n",
       "      <td>1.362</td>\n",
       "      <td>NaN</td>\n",
       "      <td>NaN</td>\n",
       "    </tr>\n",
       "  </tbody>\n",
       "</table>\n",
       "</div>"
      ],
      "text/plain": [
       "       DIFF_PRECO_MEDIO_REVENDA_PROXIMA_SEMANA  MES  DIA  DIA_DA_SEMANA  \\\n",
       "43547                                    0.013    5   15              5   \n",
       "43548                                    0.001    5   15              5   \n",
       "43549                                   -0.003    5   15              5   \n",
       "43550                                   -0.002    5   15              5   \n",
       "43551                                   -0.003    5   15              5   \n",
       "\n",
       "       DIA_DO_ANO  PRECO_MEDIO_REVENDA_ATUAL  DIFF_PRECO_MEDIO_REVENDA_ATUAL  \\\n",
       "43547         136                      1.447                             NaN   \n",
       "43548         136                      1.437                             NaN   \n",
       "43549         136                      1.600                             NaN   \n",
       "43550         136                      1.526                             NaN   \n",
       "43551         136                      1.362                             NaN   \n",
       "\n",
       "       MEDIA_MOVEL_PRECO_MEDIO_REVENDA_4_SEMANAS  \n",
       "43547                                        NaN  \n",
       "43548                                        NaN  \n",
       "43549                                        NaN  \n",
       "43550                                        NaN  \n",
       "43551                                        NaN  "
      ]
     },
     "execution_count": 31,
     "metadata": {},
     "output_type": "execute_result"
    }
   ],
   "source": [
    "df_X_treino.head()"
   ]
  },
  {
   "cell_type": "code",
   "execution_count": 32,
   "metadata": {
    "slideshow": {
     "slide_type": "slide"
    }
   },
   "outputs": [],
   "source": [
    "df_X_treino = df_X_treino.dropna()\n",
    "df_X_valid = df_X_valid.dropna()"
   ]
  },
  {
   "cell_type": "code",
   "execution_count": 33,
   "metadata": {},
   "outputs": [
    {
     "data": {
      "text/plain": [
       "MES                                          0.0\n",
       "DIA                                          0.0\n",
       "DIA_DA_SEMANA                                0.0\n",
       "DIA_DO_ANO                                   0.0\n",
       "PRECO_MEDIO_REVENDA_ATUAL                    0.0\n",
       "DIFF_PRECO_MEDIO_REVENDA_ATUAL               0.0\n",
       "MEDIA_MOVEL_PRECO_MEDIO_REVENDA_4_SEMANAS    0.0\n",
       "dtype: float64"
      ]
     },
     "execution_count": 33,
     "metadata": {},
     "output_type": "execute_result"
    }
   ],
   "source": [
    "Xtr, ytr = df_X_treino.drop(['DIFF_PRECO_MEDIO_REVENDA_PROXIMA_SEMANA'], axis=1), df_X_treino['DIFF_PRECO_MEDIO_REVENDA_PROXIMA_SEMANA']\n",
    "Xval, yval = df_X_valid.drop(['DIFF_PRECO_MEDIO_REVENDA_PROXIMA_SEMANA'], axis=1), df_X_valid['DIFF_PRECO_MEDIO_REVENDA_PROXIMA_SEMANA']\n",
    "\n",
    "Xtr.isnull().mean()"
   ]
  },
  {
   "cell_type": "code",
   "execution_count": 34,
   "metadata": {
    "slideshow": {
     "slide_type": "slide"
    }
   },
   "outputs": [],
   "source": [
    "mdl = RandomForestRegressor(n_jobs=-1, random_state=0, n_estimators=500)\n",
    "mdl.fit(Xtr, ytr)\n",
    "p = mdl.predict(Xval)"
   ]
  },
  {
   "cell_type": "code",
   "execution_count": 33,
   "metadata": {},
   "outputs": [
    {
     "data": {
      "text/plain": [
       "0.8344905526219556"
      ]
     },
     "execution_count": 33,
     "metadata": {},
     "output_type": "execute_result"
    }
   ],
   "source": [
    "p_final = Xval['PRECO_MEDIO_REVENDA_ATUAL'] + p\n",
    "yval_final = Xval['PRECO_MEDIO_REVENDA_ATUAL'] + yval\n",
    "\n",
    "np.sqrt(mean_squared_log_error(yval_final, p_final)) * 100"
   ]
  },
  {
   "cell_type": "markdown",
   "metadata": {},
   "source": [
    "modelo = 0.8344905526219556  \n",
    "baseline = 0.8133639513965776"
   ]
  },
  {
   "cell_type": "markdown",
   "metadata": {
    "slideshow": {
     "slide_type": "slide"
    }
   },
   "source": [
    "# Sequential Forward Feature Selection\n"
   ]
  },
  {
   "cell_type": "code",
   "execution_count": 34,
   "metadata": {},
   "outputs": [
    {
     "name": "stdout",
     "output_type": "stream",
     "text": [
      "Variável: MES - Erro: 0.8092\n",
      "\n",
      "Variável: DIA - Erro: 0.8194\n",
      "\n",
      "Variável: DIA_DA_SEMANA - Erro: 0.8115\n",
      "\n",
      "Variável: DIA_DO_ANO - Erro: 0.8924\n",
      "\n",
      "Variável: PRECO_MEDIO_REVENDA_ATUAL - Erro: 0.8271\n",
      "\n",
      "Variável: DIFF_PRECO_MEDIO_REVENDA_ATUAL - Erro: 0.8345\n",
      "\n",
      "Variável: MEDIA_MOVEL_PRECO_MEDIO_REVENDA_4_SEMANAS - Erro: 0.8409\n",
      "\n",
      "Melhor Variável: MES - Erro: 0.8092\n",
      "\n"
     ]
    }
   ],
   "source": [
    "var_menor_erro = None\n",
    "valor_menor_erro = 1000.\n",
    "\n",
    "for var in Xtr.columns:\n",
    "    mdl = RandomForestRegressor(n_jobs=-1, random_state=0, n_estimators=500)\n",
    "    mdl.fit(Xtr[[var]], ytr)\n",
    "    p = mdl.predict(Xval[[var]])\n",
    "    \n",
    "    p_final = Xval['PRECO_MEDIO_REVENDA_ATUAL'] + p\n",
    "    yval_final = Xval['PRECO_MEDIO_REVENDA_ATUAL'] + yval\n",
    "\n",
    "    erro = np.sqrt(mean_squared_log_error(yval_final, p_final)) * 100\n",
    "    \n",
    "    print(\"Variável: {} - Erro: {:.4f}\\n\".format(var, erro))\n",
    "    \n",
    "    if erro < valor_menor_erro:\n",
    "        var_menor_erro = var\n",
    "        valor_menor_erro = erro\n",
    "        \n",
    "print(\"Melhor Variável: {} - Erro: {:.4f}\\n\".format(var_menor_erro, valor_menor_erro))\n",
    "    "
   ]
  },
  {
   "cell_type": "markdown",
   "metadata": {
    "slideshow": {
     "slide_type": "slide"
    }
   },
   "source": [
    "baseline = 0.8133639513965776\n",
    "\n",
    "Variável: MES - Erro: 0.8092\n",
    "\n",
    "Variável: DIA - Erro: 0.8194\n",
    "\n",
    "Variável: DIA_DA_SEMANA - Erro: 0.8115\n",
    "\n",
    "Variável: DIA_DO_ANO - Erro: 0.8924\n",
    "\n",
    "Variável: PRECO_MEDIO_REVENDA_ATUAL - Erro: 0.8271\n",
    "\n",
    "Variável: DIFF_PRECO_MEDIO_REVENDA_ATUAL - Erro: 0.8345\n",
    "\n",
    "Variável: MEDIA_MOVEL_PRECO_MEDIO_REVENDA_4_SEMANAS - Erro: 0.8409\n",
    "\n",
    "Melhor Variável: MES - Erro: 0.8092"
   ]
  }
 ],
 "metadata": {
  "celltoolbar": "Slideshow",
  "kernelspec": {
   "display_name": "Python 3",
   "language": "python",
   "name": "python3"
  },
  "language_info": {
   "codemirror_mode": {
    "name": "ipython",
    "version": 3
   },
   "file_extension": ".py",
   "mimetype": "text/x-python",
   "name": "python",
   "nbconvert_exporter": "python",
   "pygments_lexer": "ipython3",
   "version": "3.7.3"
  }
 },
 "nbformat": 4,
 "nbformat_minor": 4
}
